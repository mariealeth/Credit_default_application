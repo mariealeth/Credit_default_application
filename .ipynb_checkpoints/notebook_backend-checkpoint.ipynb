{
 "cells": [
  {
   "cell_type": "code",
   "execution_count": 147,
   "id": "8d2c1c67-4c5b-4a35-a7cd-2a12d35683b7",
   "metadata": {},
   "outputs": [],
   "source": [
    "from fastapi import FastAPI\n",
    "from pydantic import BaseModel\n",
    "import joblib\n",
    "import pandas as pd\n",
    "import pickle\n",
    "#from functions import LightGBM_proba\n",
    "\n",
    "app = FastAPI()\n",
    "\n",
    "class Customer(BaseModel):\n",
    "    identity : int\n",
    "\n",
    "\n",
    "lightGBM_proba_shap = pickle.load(open('lightGBM_proba_shap.pkl', 'rb'))\n",
    "\n",
    "@app.post(\"/prediction\")\n",
    "def make_predictions(data: Customer):\n",
    "    customer_id = data\n",
    "    some_customers = pd.read_csv(\"some_customers.csv\")\n",
    "    customer_data = some_customers[some_customers['SK_ID_CURR']==customer_id]\n",
    "    customer_data = customer_data.iloc[:, 1: -1].values\n",
    "    \n",
    "    predict = lightGBM_proba_shap.predict(customer_data)\n",
    "    \n",
    "    return predict\n",
    "    \n"
   ]
  },
  {
   "cell_type": "code",
   "execution_count": 148,
   "id": "7601f114-e9e8-462b-ae8f-39cc6ad141d3",
   "metadata": {},
   "outputs": [],
   "source": [
    "customer_data = some_customers[some_customers['SK_ID_CURR']==100001]\n",
    "data = customer_data.iloc[:, 1: -1].values"
   ]
  },
  {
   "cell_type": "code",
   "execution_count": 149,
   "id": "1a753d1f-e0d9-4ca2-a9b2-b0560311572a",
   "metadata": {},
   "outputs": [
    {
     "ename": "NameError",
     "evalue": "name 'local_features_importance' is not defined",
     "output_type": "error",
     "traceback": [
      "\u001b[0;31m---------------------------------------------------------------------------\u001b[0m",
      "\u001b[0;31mNameError\u001b[0m                                 Traceback (most recent call last)",
      "Input \u001b[0;32mIn [149]\u001b[0m, in \u001b[0;36m<cell line: 1>\u001b[0;34m()\u001b[0m\n\u001b[0;32m----> 1\u001b[0m \u001b[43mmake_predictions\u001b[49m\u001b[43m(\u001b[49m\u001b[38;5;241;43m100001\u001b[39;49m\u001b[43m)\u001b[49m\n",
      "Input \u001b[0;32mIn [147]\u001b[0m, in \u001b[0;36mmake_predictions\u001b[0;34m(data)\u001b[0m\n\u001b[1;32m     20\u001b[0m customer_data \u001b[38;5;241m=\u001b[39m some_customers[some_customers[\u001b[38;5;124m'\u001b[39m\u001b[38;5;124mSK_ID_CURR\u001b[39m\u001b[38;5;124m'\u001b[39m]\u001b[38;5;241m==\u001b[39mcustomer_id]\n\u001b[1;32m     21\u001b[0m customer_data \u001b[38;5;241m=\u001b[39m customer_data\u001b[38;5;241m.\u001b[39miloc[:, \u001b[38;5;241m1\u001b[39m: \u001b[38;5;241m-\u001b[39m\u001b[38;5;241m1\u001b[39m]\u001b[38;5;241m.\u001b[39mvalues\n\u001b[0;32m---> 23\u001b[0m predict \u001b[38;5;241m=\u001b[39m \u001b[43mlightGBM_proba_shap\u001b[49m\u001b[38;5;241;43m.\u001b[39;49m\u001b[43mpredict\u001b[49m\u001b[43m(\u001b[49m\u001b[43mcustomer_data\u001b[49m\u001b[43m)\u001b[49m\n\u001b[1;32m     25\u001b[0m \u001b[38;5;28;01mreturn\u001b[39;00m predict\n",
      "File \u001b[0;32m~/Documents/Python/0penclassroom/P7/essai_docker_lightgbm/fastapi_backend/functions.py:312\u001b[0m, in \u001b[0;36mLightGBM_proba.predict\u001b[0;34m(self, model_input)\u001b[0m\n\u001b[1;32m    311\u001b[0m \u001b[38;5;28;01mdef\u001b[39;00m \u001b[38;5;21mpredict\u001b[39m(\u001b[38;5;28mself\u001b[39m, model_input):\n\u001b[0;32m--> 312\u001b[0m     \u001b[38;5;28;01mreturn\u001b[39;00m ({\u001b[38;5;124m'\u001b[39m\u001b[38;5;124mproba\u001b[39m\u001b[38;5;124m'\u001b[39m: \u001b[38;5;28mself\u001b[39m\u001b[38;5;241m.\u001b[39mmodel\u001b[38;5;241m.\u001b[39mpredict_proba(model_input), \u001b[38;5;124m'\u001b[39m\u001b[38;5;124mfeature_importance\u001b[39m\u001b[38;5;124m'\u001b[39m: \u001b[43mlocal_features_importance\u001b[49m(\u001b[38;5;28mself\u001b[39m\u001b[38;5;241m.\u001b[39mmodel, model_input)})\n",
      "\u001b[0;31mNameError\u001b[0m: name 'local_features_importance' is not defined"
     ]
    }
   ],
   "source": [
    "make_predictions(100001)"
   ]
  },
  {
   "cell_type": "code",
   "execution_count": 27,
   "id": "0a0d1535-08bb-4047-b014-0ba4e1012621",
   "metadata": {},
   "outputs": [],
   "source": []
  },
  {
   "cell_type": "code",
   "execution_count": 27,
   "id": "09643596-f0dd-4d2f-abc0-07b8c0ae8590",
   "metadata": {},
   "outputs": [],
   "source": []
  },
  {
   "cell_type": "code",
   "execution_count": null,
   "id": "07afbdd1-be5b-4fbb-b558-6dad92e61074",
   "metadata": {},
   "outputs": [],
   "source": []
  },
  {
   "cell_type": "code",
   "execution_count": null,
   "id": "c85e9208-a864-4d1d-a49e-6fa5a2bc685e",
   "metadata": {},
   "outputs": [],
   "source": []
  },
  {
   "cell_type": "code",
   "execution_count": null,
   "id": "a22ba996-04e6-420c-91e5-7c29aa3e9a7f",
   "metadata": {},
   "outputs": [],
   "source": []
  },
  {
   "cell_type": "code",
   "execution_count": null,
   "id": "d967e0d7-7946-43bc-8580-7a39ac457ab6",
   "metadata": {},
   "outputs": [],
   "source": []
  },
  {
   "cell_type": "code",
   "execution_count": null,
   "id": "7a4cc269-ee08-4208-aeae-43971814aa28",
   "metadata": {},
   "outputs": [],
   "source": []
  },
  {
   "cell_type": "code",
   "execution_count": 124,
   "id": "414e542c-c774-4a49-a7b2-56d3546b5d58",
   "metadata": {},
   "outputs": [],
   "source": [
    "customer_id = 100001\n",
    "some_customers = pd.read_csv(\"some_customers.csv\")\n",
    "customer_data = some_customers[some_customers['SK_ID_CURR']==customer_id]\n",
    "customer_data1 = customer_data.iloc[:, 1: -1].values"
   ]
  },
  {
   "cell_type": "code",
   "execution_count": 134,
   "id": "d4f02d87-f408-46cc-af25-afe7bfc2bef1",
   "metadata": {},
   "outputs": [],
   "source": [
    "lightgbm_shap = pickle.load(open('lightGBM_proba_shap.pkl', 'rb'))"
   ]
  },
  {
   "cell_type": "code",
   "execution_count": 138,
   "id": "2bf286ba-5522-458e-81c5-2d59baccca0f",
   "metadata": {},
   "outputs": [
    {
     "data": {
      "text/plain": [
       "dict_keys(['model'])"
      ]
     },
     "execution_count": 138,
     "metadata": {},
     "output_type": "execute_result"
    }
   ],
   "source": [
    "lightgbm_shap.__dict__.keys() "
   ]
  },
  {
   "cell_type": "code",
   "execution_count": 135,
   "id": "2cae7435-b69a-4169-a7c2-3ac263c54df0",
   "metadata": {},
   "outputs": [
    {
     "ename": "NameError",
     "evalue": "name 'local_features_importance' is not defined",
     "output_type": "error",
     "traceback": [
      "\u001b[0;31m---------------------------------------------------------------------------\u001b[0m",
      "\u001b[0;31mNameError\u001b[0m                                 Traceback (most recent call last)",
      "Input \u001b[0;32mIn [135]\u001b[0m, in \u001b[0;36m<cell line: 1>\u001b[0;34m()\u001b[0m\n\u001b[0;32m----> 1\u001b[0m predict \u001b[38;5;241m=\u001b[39m \u001b[43mlightgbm_shap\u001b[49m\u001b[38;5;241;43m.\u001b[39;49m\u001b[43mpredict\u001b[49m\u001b[43m(\u001b[49m\u001b[43mcustomer_data1\u001b[49m\u001b[43m)\u001b[49m\n",
      "File \u001b[0;32m~/Documents/Python/0penclassroom/P7/essai_docker_lightgbm/fastapi_backend/functions.py:312\u001b[0m, in \u001b[0;36mLightGBM_proba.predict\u001b[0;34m(self, model_input)\u001b[0m\n\u001b[1;32m    311\u001b[0m \u001b[38;5;28;01mdef\u001b[39;00m \u001b[38;5;21mpredict\u001b[39m(\u001b[38;5;28mself\u001b[39m, model_input):\n\u001b[0;32m--> 312\u001b[0m     \u001b[38;5;28;01mreturn\u001b[39;00m ({\u001b[38;5;124m'\u001b[39m\u001b[38;5;124mproba\u001b[39m\u001b[38;5;124m'\u001b[39m: \u001b[38;5;28mself\u001b[39m\u001b[38;5;241m.\u001b[39mmodel\u001b[38;5;241m.\u001b[39mpredict_proba(model_input), \u001b[38;5;124m'\u001b[39m\u001b[38;5;124mfeature_importance\u001b[39m\u001b[38;5;124m'\u001b[39m: \u001b[43mlocal_features_importance\u001b[49m(\u001b[38;5;28mself\u001b[39m\u001b[38;5;241m.\u001b[39mmodel, model_input)})\n",
      "\u001b[0;31mNameError\u001b[0m: name 'local_features_importance' is not defined"
     ]
    }
   ],
   "source": [
    "predict = lightgbm_shap.predict(customer_data1)"
   ]
  },
  {
   "cell_type": "code",
   "execution_count": null,
   "id": "2a411dfe-a132-45f9-9a95-e8e6f402c093",
   "metadata": {},
   "outputs": [],
   "source": [
    "return {'Prediction':  predict}"
   ]
  }
 ],
 "metadata": {
  "kernelspec": {
   "display_name": "Python 3 (ipykernel)",
   "language": "python",
   "name": "python3"
  },
  "language_info": {
   "codemirror_mode": {
    "name": "ipython",
    "version": 3
   },
   "file_extension": ".py",
   "mimetype": "text/x-python",
   "name": "python",
   "nbconvert_exporter": "python",
   "pygments_lexer": "ipython3",
   "version": "3.9.13"
  }
 },
 "nbformat": 4,
 "nbformat_minor": 5
}
