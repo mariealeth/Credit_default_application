{
 "cells": [
  {
   "cell_type": "code",
   "execution_count": 5,
   "id": "dbd57b10-105e-4db0-b034-7ab0274287ca",
   "metadata": {},
   "outputs": [],
   "source": [
    "\n",
    "import unittest\n",
    "from fastapi.testclient import TestClient\n",
    "import pandas as pd\n",
    "import pickle\n",
    "import lightgbm\n",
    "from functions import *"
   ]
  },
  {
   "cell_type": "code",
   "execution_count": 15,
   "id": "aa99f987-e661-4e18-9875-cf8e65cf62bd",
   "metadata": {},
   "outputs": [
    {
     "name": "stderr",
     "output_type": "stream",
     "text": [
      "EEE\n",
      "======================================================================\n",
      "ERROR: test_proba1 (__main__.MyTestCase)\n",
      "----------------------------------------------------------------------\n",
      "Traceback (most recent call last):\n",
      "  File \"/var/folders/cg/rgv17yks2975h8b2p1c414640000gn/T/ipykernel_62942/2389195556.py\", line 30, in test_proba1\n",
      "    result = lightGBM_definitif.predict_proba(customer_data)[0][1]\n",
      "NameError: name 'lightGBM_definitif' is not defined\n",
      "\n",
      "======================================================================\n",
      "ERROR: test_proba2 (__main__.MyTestCase)\n",
      "----------------------------------------------------------------------\n",
      "Traceback (most recent call last):\n",
      "  File \"/var/folders/cg/rgv17yks2975h8b2p1c414640000gn/T/ipykernel_62942/2389195556.py\", line 37, in test_proba2\n",
      "    result = lightGBM_definitif.predict_proba(customer_data)[0][1]\n",
      "NameError: name 'lightGBM_definitif' is not defined\n",
      "\n",
      "======================================================================\n",
      "ERROR: test_sup_empty_features (__main__.TestSuppEmptyFeatures)\n",
      "----------------------------------------------------------------------\n",
      "Traceback (most recent call last):\n",
      "  File \"/var/folders/cg/rgv17yks2975h8b2p1c414640000gn/T/ipykernel_62942/3124100798.py\", line 15, in test_sup_empty_features\n",
      "    self.assertEqual(supp_empty_features(self.df), expected_output)\n",
      "  File \"/opt/anaconda3/envs/openclassrooms/lib/python3.9/unittest/case.py\", line 837, in assertEqual\n",
      "    assertion_func(first, second, msg=msg)\n",
      "  File \"/opt/anaconda3/envs/openclassrooms/lib/python3.9/unittest/case.py\", line 827, in _baseAssertEqual\n",
      "    if not first == second:\n",
      "  File \"/opt/anaconda3/envs/openclassrooms/lib/python3.9/site-packages/pandas/core/ops/common.py\", line 72, in new_method\n",
      "    return method(self, other)\n",
      "  File \"/opt/anaconda3/envs/openclassrooms/lib/python3.9/site-packages/pandas/core/arraylike.py\", line 42, in __eq__\n",
      "    return self._cmp_method(other, operator.eq)\n",
      "  File \"/opt/anaconda3/envs/openclassrooms/lib/python3.9/site-packages/pandas/core/frame.py\", line 7579, in _cmp_method\n",
      "    self, other = ops.align_method_FRAME(self, other, axis, flex=False, level=None)\n",
      "  File \"/opt/anaconda3/envs/openclassrooms/lib/python3.9/site-packages/pandas/core/ops/__init__.py\", line 289, in align_method_FRAME\n",
      "    raise ValueError(\n",
      "ValueError: Can only compare identically-labeled DataFrame objects\n",
      "\n",
      "----------------------------------------------------------------------\n",
      "Ran 3 tests in 1.664s\n",
      "\n",
      "FAILED (errors=3)\n"
     ]
    }
   ],
   "source": [
    "#with open(\"lightGBM_definitif.pkl\", \"rb\") as f:\n",
    "#    lightGBM_definitif = pickle.load(f)\n",
    "\n",
    "    \n",
    "class TestSuppEmptyFeatures(unittest.TestCase):\n",
    "    \n",
    "    def setUp(self):\n",
    "        self.df = pd.DataFrame({'A': [1, 2, np.nan, 4],\n",
    "                                'B': [5, 6, 7, np.nan],\n",
    "                                'C': [8, 9, 10, 11],\n",
    "                                'D': [12, np.nan, np.nan, np.nan]})\n",
    "\n",
    "    def test_sup_empty_features(self):\n",
    "        expected_output = pd.DataFrame({'A': [1, 2, np.nan, 4], 'C': [8, 9, 10, 11]})\n",
    "        self.assertEqual(supp_empty_features(self.df), expected_output)\n",
    "\n",
    "        expected_output = pd.DataFrame({'A': [1, 2, np.nan, 4], 'C': [8, 9, 10, 11], 'D': [12, np.nan, np.nan, np.nan]})\n",
    "        self.assertEqual(supp_empty_features(self.df, percent_mini=25), expected_output)\n",
    "\n",
    "        #expected_output = pd.DataFrame({'A': [1, 2, np.nan, 4], 'D': [12, np.nan, np.nan, np.nan]})\n",
    "        #self.assertEqual(supp_empty_features(self.df, features_excluded=['B', 'C']), expected_output)\n",
    "    \n",
    "\n",
    "if __name__ == '__main__':\n",
    "    unittest.main(argv=['test_sup_empty_features'], exit=False)\n",
    "        "
   ]
  },
  {
   "cell_type": "code",
   "execution_count": null,
   "id": "c076b116-2f21-462b-9e30-8bf7ac714c68",
   "metadata": {},
   "outputs": [],
   "source": [
    "\n"
   ]
  },
  {
   "cell_type": "code",
   "execution_count": 23,
   "id": "83d951d8-d84b-4a35-ac67-f2a39283fb08",
   "metadata": {},
   "outputs": [],
   "source": [
    "data = {'col1': ['A', 'B', 'C', 'A'], 'col2': ['X', 'X', 'Z', None], 'col3': [1, 2, 3, 4]}\n",
    "df = pd.DataFrame(data)\n",
    "encoded_df, new_columns = one_hot_encoder(df, nan_as_category=True)\n",
    "encoded_df1, new_columns1 = one_hot_encoder(df, nan_as_category=False)"
   ]
  },
  {
   "cell_type": "code",
   "execution_count": 31,
   "id": "a34893bd-aca1-4f0f-b658-a51749e6f8b0",
   "metadata": {},
   "outputs": [
    {
     "data": {
      "text/html": [
       "<div>\n",
       "<style scoped>\n",
       "    .dataframe tbody tr th:only-of-type {\n",
       "        vertical-align: middle;\n",
       "    }\n",
       "\n",
       "    .dataframe tbody tr th {\n",
       "        vertical-align: top;\n",
       "    }\n",
       "\n",
       "    .dataframe thead th {\n",
       "        text-align: right;\n",
       "    }\n",
       "</style>\n",
       "<table border=\"1\" class=\"dataframe\">\n",
       "  <thead>\n",
       "    <tr style=\"text-align: right;\">\n",
       "      <th></th>\n",
       "      <th>col3</th>\n",
       "      <th>col1_A</th>\n",
       "      <th>col1_B</th>\n",
       "      <th>col1_C</th>\n",
       "      <th>col2_X</th>\n",
       "      <th>col2_Z</th>\n",
       "    </tr>\n",
       "  </thead>\n",
       "  <tbody>\n",
       "    <tr>\n",
       "      <th>0</th>\n",
       "      <td>1</td>\n",
       "      <td>1</td>\n",
       "      <td>0</td>\n",
       "      <td>0</td>\n",
       "      <td>1</td>\n",
       "      <td>0</td>\n",
       "    </tr>\n",
       "    <tr>\n",
       "      <th>1</th>\n",
       "      <td>2</td>\n",
       "      <td>0</td>\n",
       "      <td>1</td>\n",
       "      <td>0</td>\n",
       "      <td>1</td>\n",
       "      <td>0</td>\n",
       "    </tr>\n",
       "    <tr>\n",
       "      <th>2</th>\n",
       "      <td>3</td>\n",
       "      <td>0</td>\n",
       "      <td>0</td>\n",
       "      <td>1</td>\n",
       "      <td>0</td>\n",
       "      <td>1</td>\n",
       "    </tr>\n",
       "    <tr>\n",
       "      <th>3</th>\n",
       "      <td>4</td>\n",
       "      <td>1</td>\n",
       "      <td>0</td>\n",
       "      <td>0</td>\n",
       "      <td>0</td>\n",
       "      <td>0</td>\n",
       "    </tr>\n",
       "  </tbody>\n",
       "</table>\n",
       "</div>"
      ],
      "text/plain": [
       "   col3  col1_A  col1_B  col1_C  col2_X  col2_Z\n",
       "0     1       1       0       0       1       0\n",
       "1     2       0       1       0       1       0\n",
       "2     3       0       0       1       0       1\n",
       "3     4       1       0       0       0       0"
      ]
     },
     "execution_count": 31,
     "metadata": {},
     "output_type": "execute_result"
    }
   ],
   "source": [
    " encoded_df1"
   ]
  },
  {
   "cell_type": "code",
   "execution_count": 30,
   "id": "de1d69c8-f3d4-4e8d-a3ab-ec9d9a4ce5c7",
   "metadata": {},
   "outputs": [],
   "source": [
    "expected_values = [[1, 1, 0, 0, 0, 1, 0, 0],\n",
    "                           [2, 0, 1, 0, 0, 1, 0, 0],\n",
    "                           [3, 0, 0, 1, 0, 0, 1, 0],\n",
    "                           [4, 1, 0, 0, 0, 0, 0, 1]]"
   ]
  },
  {
   "cell_type": "code",
   "execution_count": 30,
   "id": "8d3e58d1-fd9f-4a1a-b734-d0e51f3eb482",
   "metadata": {},
   "outputs": [],
   "source": [
    "def test_returns_dataframe(self):\n",
    "    result = application_train_test(num_rows=1000)\n",
    "    self.assertIsInstance(result, pd.DataFrame)\n",
    "    \n",
    "    def test_no_null_values(self):\n",
    "        result = application_train_test(num_rows=1000)\n",
    "        self.assertFalse(result.isnull().values.any())"
   ]
  },
  {
   "cell_type": "code",
   "execution_count": null,
   "id": "2da20ead-bee5-421a-82ee-23a26903467c",
   "metadata": {},
   "outputs": [],
   "source": []
  }
 ],
 "metadata": {
  "kernelspec": {
   "display_name": "Python 3 (ipykernel)",
   "language": "python",
   "name": "python3"
  },
  "language_info": {
   "codemirror_mode": {
    "name": "ipython",
    "version": 3
   },
   "file_extension": ".py",
   "mimetype": "text/x-python",
   "name": "python",
   "nbconvert_exporter": "python",
   "pygments_lexer": "ipython3",
   "version": "3.9.13"
  }
 },
 "nbformat": 4,
 "nbformat_minor": 5
}
